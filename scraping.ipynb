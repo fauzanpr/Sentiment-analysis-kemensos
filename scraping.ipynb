{
 "cells": [
  {
   "cell_type": "markdown",
   "metadata": {
    "id": "BE7s7rZCI095"
   },
   "source": [
    "# Scraping\n",
    "Scraping data dilakukan dengan mengumpukan data ulasan pengguna aplikasi Cek Bansos dari Google Play Store menggunakan bantuan dari library google-play-scraper. Data yang diambil berupa nama pemberi ulasan, nilai bintang yang diberikan, waktu ulasan dikirim dan isi review ulasan."
   ]
  },
  {
   "cell_type": "markdown",
   "metadata": {},
   "source": [
    "### Library Installation"
   ]
  },
  {
   "cell_type": "code",
   "execution_count": 1,
   "metadata": {
    "colab": {
     "base_uri": "https://localhost:8080/"
    },
    "id": "1c15e570",
    "outputId": "0944acdb-39ef-4aaa-ce45-29927db009b5"
   },
   "outputs": [
    {
     "name": "stdout",
     "output_type": "stream",
     "text": [
      "Requirement already satisfied: google-play-scraper in c:\\users\\legion\\anaconda3\\lib\\site-packages (1.2.2)\n"
     ]
    }
   ],
   "source": [
    "!pip install google-play-scraper"
   ]
  },
  {
   "cell_type": "markdown",
   "metadata": {},
   "source": [
    "### Import Library"
   ]
  },
  {
   "cell_type": "code",
   "execution_count": 2,
   "metadata": {
    "id": "1a14e5b5"
   },
   "outputs": [],
   "source": [
    "from google_play_scraper import app\n",
    "import pandas as pd\n",
    "import numpy as np\n",
    "from google_play_scraper import Sort, reviews\n",
    "from pathlib import Path"
   ]
  },
  {
   "cell_type": "code",
   "execution_count": 3,
   "metadata": {
    "id": "2c65e04a"
   },
   "outputs": [],
   "source": [
    "# function for saving dataframe result of scrapping to csv file\n",
    "def makeCsv(fileName):\n",
    "    filepath = Path(f'dataset/{fileName}')  \n",
    "    filepath.parent.mkdir(parents=True, exist_ok=True)  \n",
    "    df.to_csv(filepath)  "
   ]
  },
  {
   "cell_type": "code",
   "execution_count": 4,
   "metadata": {
    "id": "4a28fd1d"
   },
   "outputs": [],
   "source": [
    "result, continuation_token = reviews(\n",
    "    'id.go.kemensos.pelaporan',\n",
    "    lang='id', \n",
    "    country='id', \n",
    "    sort=Sort.MOST_RELEVANT, \n",
    "    count=2000, \n",
    "    filter_score_with=None\n",
    ")\n",
    "df = pd.DataFrame(np.array(result),columns=['review'])\n",
    "df = df.join(pd.DataFrame(df.pop('review').tolist()))"
   ]
  },
  {
   "cell_type": "code",
   "execution_count": 5,
   "metadata": {
    "colab": {
     "base_uri": "https://localhost:8080/",
     "height": 1000
    },
    "id": "b2bc44fa",
    "outputId": "27e06f54-7e1e-43af-d4eb-5c4a9e289893"
   },
   "outputs": [
    {
     "data": {
      "text/html": [
       "<div>\n",
       "<style scoped>\n",
       "    .dataframe tbody tr th:only-of-type {\n",
       "        vertical-align: middle;\n",
       "    }\n",
       "\n",
       "    .dataframe tbody tr th {\n",
       "        vertical-align: top;\n",
       "    }\n",
       "\n",
       "    .dataframe thead th {\n",
       "        text-align: right;\n",
       "    }\n",
       "</style>\n",
       "<table border=\"1\" class=\"dataframe\">\n",
       "  <thead>\n",
       "    <tr style=\"text-align: right;\">\n",
       "      <th></th>\n",
       "      <th>reviewId</th>\n",
       "      <th>userName</th>\n",
       "      <th>userImage</th>\n",
       "      <th>content</th>\n",
       "      <th>score</th>\n",
       "      <th>thumbsUpCount</th>\n",
       "      <th>reviewCreatedVersion</th>\n",
       "      <th>at</th>\n",
       "      <th>replyContent</th>\n",
       "      <th>repliedAt</th>\n",
       "    </tr>\n",
       "  </thead>\n",
       "  <tbody>\n",
       "    <tr>\n",
       "      <th>0</th>\n",
       "      <td>39462333-f159-4bc7-a667-0816f8295cd5</td>\n",
       "      <td>Nimas Indrati</td>\n",
       "      <td>https://play-lh.googleusercontent.com/a-/AD5-W...</td>\n",
       "      <td>Tidak pernah sempurna. Dulu sulit login, pas b...</td>\n",
       "      <td>1</td>\n",
       "      <td>70</td>\n",
       "      <td>1.0.7</td>\n",
       "      <td>2022-12-13 14:35:26</td>\n",
       "      <td>None</td>\n",
       "      <td>None</td>\n",
       "    </tr>\n",
       "    <tr>\n",
       "      <th>1</th>\n",
       "      <td>3d31a173-ffe8-49be-802a-8106565071d9</td>\n",
       "      <td>Yogi Setiawan</td>\n",
       "      <td>https://play-lh.googleusercontent.com/a/AEdFTp...</td>\n",
       "      <td>Eror terus ketika pengajuan usulan, sinyal sta...</td>\n",
       "      <td>1</td>\n",
       "      <td>290</td>\n",
       "      <td>1.0.7</td>\n",
       "      <td>2022-12-01 09:40:50</td>\n",
       "      <td>None</td>\n",
       "      <td>None</td>\n",
       "    </tr>\n",
       "    <tr>\n",
       "      <th>2</th>\n",
       "      <td>feec1048-4bd1-4f3c-9130-6d134e9673ef</td>\n",
       "      <td>Rendi Sianturi</td>\n",
       "      <td>https://play-lh.googleusercontent.com/a-/AD5-W...</td>\n",
       "      <td>Buruk banget aplikasi ini, emangnya tidak ada ...</td>\n",
       "      <td>1</td>\n",
       "      <td>105</td>\n",
       "      <td>1.0.7</td>\n",
       "      <td>2022-12-08 17:32:58</td>\n",
       "      <td>None</td>\n",
       "      <td>None</td>\n",
       "    </tr>\n",
       "    <tr>\n",
       "      <th>3</th>\n",
       "      <td>0f58e0a6-ed24-4dd6-b214-08a2d00e737e</td>\n",
       "      <td>Oon Brevianto</td>\n",
       "      <td>https://play-lh.googleusercontent.com/a-/AD5-W...</td>\n",
       "      <td>Sudah Updated versi Terakhir tapi Tetap Tidak ...</td>\n",
       "      <td>1</td>\n",
       "      <td>966</td>\n",
       "      <td>1.0.7</td>\n",
       "      <td>2022-10-06 13:49:22</td>\n",
       "      <td>None</td>\n",
       "      <td>None</td>\n",
       "    </tr>\n",
       "    <tr>\n",
       "      <th>4</th>\n",
       "      <td>eba7fede-8a75-4d13-9326-cfbbb39c0838</td>\n",
       "      <td>Mulyono Gunawan</td>\n",
       "      <td>https://play-lh.googleusercontent.com/a/AEdFTp...</td>\n",
       "      <td>Tidak bisa login, padahal email dan password s...</td>\n",
       "      <td>1</td>\n",
       "      <td>412</td>\n",
       "      <td>1.0.7</td>\n",
       "      <td>2022-10-24 03:06:48</td>\n",
       "      <td>None</td>\n",
       "      <td>None</td>\n",
       "    </tr>\n",
       "    <tr>\n",
       "      <th>...</th>\n",
       "      <td>...</td>\n",
       "      <td>...</td>\n",
       "      <td>...</td>\n",
       "      <td>...</td>\n",
       "      <td>...</td>\n",
       "      <td>...</td>\n",
       "      <td>...</td>\n",
       "      <td>...</td>\n",
       "      <td>...</td>\n",
       "      <td>...</td>\n",
       "    </tr>\n",
       "    <tr>\n",
       "      <th>1995</th>\n",
       "      <td>cc60861a-a108-405f-bcc4-7aed1df3a735</td>\n",
       "      <td>Ari Frengky</td>\n",
       "      <td>https://play-lh.googleusercontent.com/a-/AD5-W...</td>\n",
       "      <td>sangat buruk susah buat masuk percuma di Adain...</td>\n",
       "      <td>5</td>\n",
       "      <td>0</td>\n",
       "      <td>1.0.7</td>\n",
       "      <td>2022-10-04 23:46:27</td>\n",
       "      <td>None</td>\n",
       "      <td>None</td>\n",
       "    </tr>\n",
       "    <tr>\n",
       "      <th>1996</th>\n",
       "      <td>ce9e390a-3acb-423e-8707-6e9c59e3699e</td>\n",
       "      <td>cAus kicAp</td>\n",
       "      <td>https://play-lh.googleusercontent.com/a-/AD5-W...</td>\n",
       "      <td>apk y eror mulu gak stabil...</td>\n",
       "      <td>1</td>\n",
       "      <td>0</td>\n",
       "      <td>1.0.7</td>\n",
       "      <td>2022-10-17 12:52:49</td>\n",
       "      <td>None</td>\n",
       "      <td>None</td>\n",
       "    </tr>\n",
       "    <tr>\n",
       "      <th>1997</th>\n",
       "      <td>658ab80c-dd34-4dd4-a914-d512edd77326</td>\n",
       "      <td>rudima ahmad</td>\n",
       "      <td>https://play-lh.googleusercontent.com/a-/AD5-W...</td>\n",
       "      <td>Gk bisa login, apakah sengaja biar gk bisa daftar</td>\n",
       "      <td>1</td>\n",
       "      <td>0</td>\n",
       "      <td>1.0.7</td>\n",
       "      <td>2022-10-15 10:37:01</td>\n",
       "      <td>None</td>\n",
       "      <td>None</td>\n",
       "    </tr>\n",
       "    <tr>\n",
       "      <th>1998</th>\n",
       "      <td>f1cb75cd-1f99-4388-be9f-09dca360d577</td>\n",
       "      <td>Muklis Danang</td>\n",
       "      <td>https://play-lh.googleusercontent.com/a-/AD5-W...</td>\n",
       "      <td>Setidaknya uang yang buat pengembangan aplikas...</td>\n",
       "      <td>1</td>\n",
       "      <td>0</td>\n",
       "      <td>1.0.7</td>\n",
       "      <td>2022-11-05 07:35:52</td>\n",
       "      <td>None</td>\n",
       "      <td>None</td>\n",
       "    </tr>\n",
       "    <tr>\n",
       "      <th>1999</th>\n",
       "      <td>41551263-1b0f-43c1-aa30-07ead7b66ac4</td>\n",
       "      <td>Agus Setiawan</td>\n",
       "      <td>https://play-lh.googleusercontent.com/a-/AD5-W...</td>\n",
       "      <td>Programmer siapa ini ? Sekelas pemerintah, mas...</td>\n",
       "      <td>1</td>\n",
       "      <td>0</td>\n",
       "      <td>1.0.7</td>\n",
       "      <td>2022-10-08 21:16:08</td>\n",
       "      <td>None</td>\n",
       "      <td>None</td>\n",
       "    </tr>\n",
       "  </tbody>\n",
       "</table>\n",
       "<p>2000 rows × 10 columns</p>\n",
       "</div>"
      ],
      "text/plain": [
       "                                  reviewId         userName  \\\n",
       "0     39462333-f159-4bc7-a667-0816f8295cd5    Nimas Indrati   \n",
       "1     3d31a173-ffe8-49be-802a-8106565071d9    Yogi Setiawan   \n",
       "2     feec1048-4bd1-4f3c-9130-6d134e9673ef   Rendi Sianturi   \n",
       "3     0f58e0a6-ed24-4dd6-b214-08a2d00e737e    Oon Brevianto   \n",
       "4     eba7fede-8a75-4d13-9326-cfbbb39c0838  Mulyono Gunawan   \n",
       "...                                    ...              ...   \n",
       "1995  cc60861a-a108-405f-bcc4-7aed1df3a735      Ari Frengky   \n",
       "1996  ce9e390a-3acb-423e-8707-6e9c59e3699e       cAus kicAp   \n",
       "1997  658ab80c-dd34-4dd4-a914-d512edd77326     rudima ahmad   \n",
       "1998  f1cb75cd-1f99-4388-be9f-09dca360d577    Muklis Danang   \n",
       "1999  41551263-1b0f-43c1-aa30-07ead7b66ac4    Agus Setiawan   \n",
       "\n",
       "                                              userImage  \\\n",
       "0     https://play-lh.googleusercontent.com/a-/AD5-W...   \n",
       "1     https://play-lh.googleusercontent.com/a/AEdFTp...   \n",
       "2     https://play-lh.googleusercontent.com/a-/AD5-W...   \n",
       "3     https://play-lh.googleusercontent.com/a-/AD5-W...   \n",
       "4     https://play-lh.googleusercontent.com/a/AEdFTp...   \n",
       "...                                                 ...   \n",
       "1995  https://play-lh.googleusercontent.com/a-/AD5-W...   \n",
       "1996  https://play-lh.googleusercontent.com/a-/AD5-W...   \n",
       "1997  https://play-lh.googleusercontent.com/a-/AD5-W...   \n",
       "1998  https://play-lh.googleusercontent.com/a-/AD5-W...   \n",
       "1999  https://play-lh.googleusercontent.com/a-/AD5-W...   \n",
       "\n",
       "                                                content  score  thumbsUpCount  \\\n",
       "0     Tidak pernah sempurna. Dulu sulit login, pas b...      1             70   \n",
       "1     Eror terus ketika pengajuan usulan, sinyal sta...      1            290   \n",
       "2     Buruk banget aplikasi ini, emangnya tidak ada ...      1            105   \n",
       "3     Sudah Updated versi Terakhir tapi Tetap Tidak ...      1            966   \n",
       "4     Tidak bisa login, padahal email dan password s...      1            412   \n",
       "...                                                 ...    ...            ...   \n",
       "1995  sangat buruk susah buat masuk percuma di Adain...      5              0   \n",
       "1996                      apk y eror mulu gak stabil...      1              0   \n",
       "1997  Gk bisa login, apakah sengaja biar gk bisa daftar      1              0   \n",
       "1998  Setidaknya uang yang buat pengembangan aplikas...      1              0   \n",
       "1999  Programmer siapa ini ? Sekelas pemerintah, mas...      1              0   \n",
       "\n",
       "     reviewCreatedVersion                  at replyContent repliedAt  \n",
       "0                   1.0.7 2022-12-13 14:35:26         None      None  \n",
       "1                   1.0.7 2022-12-01 09:40:50         None      None  \n",
       "2                   1.0.7 2022-12-08 17:32:58         None      None  \n",
       "3                   1.0.7 2022-10-06 13:49:22         None      None  \n",
       "4                   1.0.7 2022-10-24 03:06:48         None      None  \n",
       "...                   ...                 ...          ...       ...  \n",
       "1995                1.0.7 2022-10-04 23:46:27         None      None  \n",
       "1996                1.0.7 2022-10-17 12:52:49         None      None  \n",
       "1997                1.0.7 2022-10-15 10:37:01         None      None  \n",
       "1998                1.0.7 2022-11-05 07:35:52         None      None  \n",
       "1999                1.0.7 2022-10-08 21:16:08         None      None  \n",
       "\n",
       "[2000 rows x 10 columns]"
      ]
     },
     "execution_count": 5,
     "metadata": {},
     "output_type": "execute_result"
    }
   ],
   "source": [
    "df"
   ]
  },
  {
   "cell_type": "code",
   "execution_count": 6,
   "metadata": {
    "colab": {
     "base_uri": "https://localhost:8080/"
    },
    "id": "LH0TqpP4e4RP",
    "outputId": "9fc41e3a-2ca7-478c-aa28-bafa7d37abed"
   },
   "outputs": [
    {
     "name": "stdout",
     "output_type": "stream",
     "text": [
      "<class 'pandas.core.frame.DataFrame'>\n",
      "RangeIndex: 2000 entries, 0 to 1999\n",
      "Data columns (total 10 columns):\n",
      " #   Column                Non-Null Count  Dtype         \n",
      "---  ------                --------------  -----         \n",
      " 0   reviewId              2000 non-null   object        \n",
      " 1   userName              2000 non-null   object        \n",
      " 2   userImage             2000 non-null   object        \n",
      " 3   content               2000 non-null   object        \n",
      " 4   score                 2000 non-null   int64         \n",
      " 5   thumbsUpCount         2000 non-null   int64         \n",
      " 6   reviewCreatedVersion  1979 non-null   object        \n",
      " 7   at                    2000 non-null   datetime64[ns]\n",
      " 8   replyContent          0 non-null      object        \n",
      " 9   repliedAt             0 non-null      object        \n",
      "dtypes: datetime64[ns](1), int64(2), object(7)\n",
      "memory usage: 156.4+ KB\n"
     ]
    }
   ],
   "source": [
    "df.info()"
   ]
  },
  {
   "cell_type": "code",
   "execution_count": 7,
   "metadata": {
    "colab": {
     "base_uri": "https://localhost:8080/"
    },
    "id": "4e8ea56e",
    "outputId": "5d0ddd98-8237-4920-d4d1-d74069672b55"
   },
   "outputs": [
    {
     "data": {
      "text/plain": [
       "Index(['reviewId', 'userName', 'userImage', 'content', 'score',\n",
       "       'thumbsUpCount', 'reviewCreatedVersion', 'at', 'replyContent',\n",
       "       'repliedAt'],\n",
       "      dtype='object')"
      ]
     },
     "execution_count": 7,
     "metadata": {},
     "output_type": "execute_result"
    }
   ],
   "source": [
    "df.columns"
   ]
  },
  {
   "cell_type": "markdown",
   "metadata": {},
   "source": [
    "### Download As CSV"
   ]
  },
  {
   "cell_type": "code",
   "execution_count": 9,
   "metadata": {
    "id": "051ffba7"
   },
   "outputs": [],
   "source": [
    "makeCsv('data-of-kemensospelaporan-2000-responses-id.csv')"
   ]
  }
 ],
 "metadata": {
  "colab": {
   "provenance": []
  },
  "kernelspec": {
   "display_name": "Python 3",
   "language": "python",
   "name": "python3"
  },
  "language_info": {
   "codemirror_mode": {
    "name": "ipython",
    "version": 3
   },
   "file_extension": ".py",
   "mimetype": "text/x-python",
   "name": "python",
   "nbconvert_exporter": "python",
   "pygments_lexer": "ipython3",
   "version": "3.8.8"
  }
 },
 "nbformat": 4,
 "nbformat_minor": 1
}
